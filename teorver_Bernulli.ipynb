{
 "cells": [
  {
   "cell_type": "markdown",
   "id": "a2b71977",
   "metadata": {},
   "source": [
    "Формула Бернулли — формула в теории вероятностей, позволяющая находить вероятность появления события определённое количество раз при любом числе независимых испытаний."
   ]
  },
  {
   "cell_type": "markdown",
   "id": "89b741bc",
   "metadata": {},
   "source": [
    "<img src=\"img/00.png\" width=1000>"
   ]
  },
  {
   "cell_type": "markdown",
   "id": "e05ce8ce",
   "metadata": {},
   "source": [
    "Пример: Устройство, состоящее из пяти независимо работающих элементов, включается за время Т. Вероятность отказа каждого из них за это время равна 0,4. Найдите вероятность того, что хотя бы один элемент откажет."
   ]
  },
  {
   "cell_type": "code",
   "execution_count": 8,
   "id": "2eb9824d",
   "metadata": {},
   "outputs": [],
   "source": [
    "from math import factorial"
   ]
  },
  {
   "cell_type": "code",
   "execution_count": 9,
   "id": "64f5d354",
   "metadata": {},
   "outputs": [],
   "source": [
    "# Биномиальный коэффициент\n",
    "def num_of_combinations(n, k):\n",
    "    return factorial(n)/(factorial(k) * factorial(n - k))"
   ]
  },
  {
   "cell_type": "code",
   "execution_count": 11,
   "id": "32dc22b2",
   "metadata": {},
   "outputs": [
    {
     "name": "stdout",
     "output_type": "stream",
     "text": [
      "Введите общее число элементов - n 5\n",
      "Введите нужное число элементов - k 1\n",
      "Если расчет по ровно по k элементам, введите 1 \n",
      "Если расчет хотя бы (не менее чем) по k элементам, введите 2 \n",
      "Если расчет не более чем по k элементам, введите 3 \n",
      "Если расчет хотя бы по 1 элементу, введите 4 4\n",
      "Введите вероятность события - p 0.4\n",
      "Количество комбинаций C = 1.0\n",
      "Вероятность того, что для n элементов событие произойдет в k элементах P = 0.9222400000000001\n"
     ]
    }
   ],
   "source": [
    "n = int(input('Введите общее число элементов - n '))\n",
    "k = int(input('Введите нужное число элементов - k '))\n",
    "i = int(input('''Если расчет по ровно по k элементам, введите 1 \n",
    "Если расчет хотя бы (не менее чем) по k элементам, введите 2 \n",
    "Если расчет не более чем по k элементам, введите 3 \n",
    "Если расчет хотя бы по 1 элементу, введите 4 '''))\n",
    "p = float(input('Введите вероятность события - p '))\n",
    "if i == 1:\n",
    "    C = num_of_combinations(n, k)\n",
    "    P = C * p**k * (1-p)**(n-k)\n",
    "elif i == 2:\n",
    "    P = 0\n",
    "    for j in range(k, n+1):\n",
    "        C = num_of_combinations(n, j)\n",
    "        P += C * p**j * (1-p)**(n-j)\n",
    "elif i == 3:\n",
    "    P = 0\n",
    "    for j in range(0, k+1):\n",
    "        C = num_of_combinations(n, j)\n",
    "        P += C * p**j * (1-p)**(n-j)     \n",
    "elif i == 4:\n",
    "    k=0\n",
    "    n=n\n",
    "    C = num_of_combinations(n, k)\n",
    "    P = 1 - C * p**k * (1-p)**(n-k)\n",
    "else:\n",
    "    print('ошибка ввода i')\n",
    "print(f'Количество комбинаций C = {C}')\n",
    "print(f'Вероятность того, что для n элементов событие произойдет в k элементах P = {P}')"
   ]
  },
  {
   "cell_type": "code",
   "execution_count": null,
   "id": "8a60c22d",
   "metadata": {},
   "outputs": [],
   "source": []
  },
  {
   "cell_type": "code",
   "execution_count": null,
   "id": "e61c7afd",
   "metadata": {},
   "outputs": [],
   "source": []
  }
 ],
 "metadata": {
  "kernelspec": {
   "display_name": "Python 3 (ipykernel)",
   "language": "python",
   "name": "python3"
  },
  "language_info": {
   "codemirror_mode": {
    "name": "ipython",
    "version": 3
   },
   "file_extension": ".py",
   "mimetype": "text/x-python",
   "name": "python",
   "nbconvert_exporter": "python",
   "pygments_lexer": "ipython3",
   "version": "3.9.12"
  }
 },
 "nbformat": 4,
 "nbformat_minor": 5
}
